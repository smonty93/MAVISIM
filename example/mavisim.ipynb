{
 "cells": [
  {
   "cell_type": "markdown",
   "metadata": {},
   "source": [
    "# MAVISIM Tutorial\n",
    "\n",
    "This is an example notebook showing you how to create a stellar field using an example input file and spatially variable low- and high-order PSFs."
   ]
  },
  {
   "cell_type": "markdown",
   "metadata": {},
   "source": [
    "# Imports"
   ]
  },
  {
   "cell_type": "code",
   "execution_count": null,
   "metadata": {},
   "outputs": [],
   "source": [
    "# Standard\n",
    "import numpy as np\n",
    "import os\n",
    "\n",
    "# Astropy\n",
    "from astropy.io import fits, ascii\n",
    "from astropy.table import Table\n",
    "\n",
    "# Plotting\n",
    "import matplotlib.pyplot as plt\n",
    "from matplotlib.patches import Ellipse\n",
    "\n",
    "# Project Specific\n",
    "import input_parameters as input_par\n",
    "\n",
    "from mavisim.Source import Source\n",
    "from mavisim.AOGaussGrid import AOGaussGrid\n",
    "from mavisim.SeeingGrid import SeeingGrid\n",
    "from mavisim.addnoise import add_all_noise\n",
    "from mavisim.InputCoo import InputCoo"
   ]
  },
  {
   "cell_type": "markdown",
   "metadata": {},
   "source": [
    "# Load the input data and specify a exposure time\n",
    "\n",
    "We're loading an N-body catalogue of NGC 3201 with an embedded 1500 intermediate mass black hole in the centre. \n",
    "\n"
   ]
  },
  {
   "cell_type": "code",
   "execution_count": null,
   "metadata": {},
   "outputs": [],
   "source": [
    "# Nbody input plus chosen exposure time\n",
    "ngc3201 = input_par.input_file\n",
    "\n",
    "# Exposure time in seconds\n",
    "exp_time = 30"
   ]
  },
  {
   "cell_type": "markdown",
   "metadata": {},
   "source": [
    "# To create the source object we need to specify two things:\n",
    "\n",
    "## 1. Tip-tilt Jitter Map Variability (on or off) with `tt_var` and\n",
    "## 2. Specify the static distortion (on or off) with the `static_dist` parameter"
   ]
  },
  {
   "cell_type": "code",
   "execution_count": null,
   "metadata": {},
   "outputs": [],
   "source": [
    "# We're going to run the simulation with the tip-tilt residual being spacially variable and including static distortion\n",
    "\n",
    "# Some information about the specifications are printed when Source is called\n",
    "source = Source(input_par, ngc3201, exp_time, static_dist=True, tt_var=True).main()"
   ]
  },
  {
   "cell_type": "markdown",
   "metadata": {},
   "source": [
    "# Create the AO and Gaussian Fields, specify one thing:\n",
    "\n",
    "## 1. High-Order PSF Spatial Variability (on or off) with `psf_var`"
   ]
  },
  {
   "cell_type": "code",
   "execution_count": null,
   "metadata": {},
   "outputs": [],
   "source": [
    "# Create the ao_field (which will be our final field in the case of the big EtE PSxF)\n",
    "(ao_field,gauss_field) = AOGaussGrid(input_par, source, fv_psf=True).main()"
   ]
  },
  {
   "cell_type": "markdown",
   "metadata": {},
   "source": [
    "# Create the Seeing FIeld"
   ]
  },
  {
   "cell_type": "code",
   "execution_count": null,
   "metadata": {},
   "outputs": [],
   "source": [
    "# Create the seeing field\n",
    "seeing_field = SeeingGrid(input_par, gauss_field).main()"
   ]
  },
  {
   "cell_type": "markdown",
   "metadata": {},
   "source": [
    "# Make the Noise-Free Image"
   ]
  },
  {
   "cell_type": "code",
   "execution_count": null,
   "metadata": {},
   "outputs": [],
   "source": [
    "# Add the two fields to make the image\n",
    "image = ao_field + seeing_field"
   ]
  },
  {
   "cell_type": "markdown",
   "metadata": {},
   "source": [
    "# Create the Final Image"
   ]
  },
  {
   "cell_type": "code",
   "execution_count": null,
   "metadata": {},
   "outputs": [],
   "source": [
    "# Add shot noise, read noise and convert from electrons to ADU\n",
    "final_image = add_all_noise(input_par, image, source.meta[\"exp_time\"])"
   ]
  },
  {
   "cell_type": "markdown",
   "metadata": {},
   "source": [
    "## Optional Code: Create a Catalogue of the Input Stellar Positions"
   ]
  },
  {
   "cell_type": "code",
   "execution_count": null,
   "metadata": {},
   "outputs": [],
   "source": [
    "# Create the input catalogue\n",
    "input_coo = InputCoo(input_par, source).main()"
   ]
  },
  {
   "cell_type": "markdown",
   "metadata": {},
   "source": [
    "## Optional Code: Save the Image as a Fits File for use with DAOPHOT"
   ]
  },
  {
   "cell_type": "code",
   "execution_count": null,
   "metadata": {},
   "outputs": [],
   "source": [
    "image_final_noise = np.array(final_image, dtype=\"float32\")\n",
    "hdu = fits.PrimaryHDU(image_final_noise)\n",
    "hdul = fits.HDUList([hdu])\n",
    "hdul.writeto(\"testimage.fits\", overwrite=True)\n",
    "\n",
    "# Save the input posiions\n",
    "ascii.write(input_coo, \"testpos.coo\", overwrite=True)"
   ]
  },
  {
   "cell_type": "markdown",
   "metadata": {},
   "source": [
    "## Optional Code: Visualise the Tip-Tilt Map"
   ]
  },
  {
   "cell_type": "code",
   "execution_count": null,
   "metadata": {},
   "outputs": [],
   "source": [
    "# This is the tip-tilt map we'll be using as specified in the input_parameters.py file\n",
    "\n",
    "# This is the best map, representing the ideal constellation geometry and characterstics\n",
    "print (input_par.tt_residual_map)"
   ]
  },
  {
   "cell_type": "code",
   "execution_count": null,
   "metadata": {},
   "outputs": [],
   "source": [
    "def plot_ngs(star_locs, mag, axis):\n",
    "    x = star_locs[0] * np.cos(star_locs[1] * np.pi/180)\n",
    "    y = star_locs[0] * np.sin(star_locs[1] * np.pi/180)\n",
    "    \n",
    "    axis.scatter(x, y, marker=\"*\", s=8000*(1/mag), c=\"r\", zorder=2, alpha=0.9)"
   ]
  },
  {
   "cell_type": "code",
   "execution_count": null,
   "metadata": {},
   "outputs": [],
   "source": [
    "def plot_jitter(jitter_map, axis, coeff):\n",
    "    xs = jitter_map[0].data[0]\n",
    "    ys = jitter_map[0].data[1]\n",
    "    \n",
    "    for num in range(0, 11):\n",
    "        y = ys[num][0]\n",
    "\n",
    "        for num2 in range(0, 11):\n",
    "            x = xs[num, num2]\n",
    "            \n",
    "            # Can keep track of the kernel parameters if you'd like!\n",
    "            major_ax = jitter_map[0].data[2][num, num2]\n",
    "            minor_ax = jitter_map[0].data[3][num, num2]\n",
    "            theta = jitter_map[0].data[4][num, num2]\n",
    "            \n",
    "            # Plot the tip-tilt kernel as ellipses\n",
    "            ell = Ellipse(xy=(x, y), width=2*coeff*major_ax, height=2*coeff*minor_ax, angle=theta)\n",
    "            ell.set_facecolor(\"black\")\n",
    "            ell.set_alpha(0.75)\n",
    "            \n",
    "            axis.add_artist(ell)"
   ]
  },
  {
   "cell_type": "code",
   "execution_count": null,
   "metadata": {},
   "outputs": [],
   "source": [
    "jitter_map1_ngs_locs = [[10, 0], [10, 120], [10, 240]]\n",
    "jitter_map1_ngs_mags = [15, 15, 15]\n",
    "\n",
    "fig, ax1 = plt.subplots(figsize=(6, 6))\n",
    "\n",
    "ax1.minorticks_on()\n",
    "ax1.tick_params(which='major', length=6, width=1, direction='in', top=True, right=True)\n",
    "ax1.tick_params(which='minor', length=2, width=1, direction='in', top=True, right=True)\n",
    "\n",
    "plot_jitter(input_par.tt_jitter, ax1, coeff=100/1e3)\n",
    "\n",
    "for (loc, mag) in zip(jitter_map1_ngs_locs, jitter_map1_ngs_mags):\n",
    "    plot_ngs(loc, mag, ax1)\n",
    "\n",
    "ax1.set_xlim(-20, 20)\n",
    "ax1.set_ylim(-20, 20)\n",
    "ax1.set_xlabel('X [arcsec]')\n",
    "ax1.set_ylabel('Y [arcsec]')\n",
    "\n",
    "ax1.hlines(y=0, xmin=-20, xmax=20, color=\"k\", linestyle=\":\", zorder=1)\n",
    "ax1.vlines(x=0, ymin=-20, ymax=20, color=\"k\", linestyle=\":\", zorder=1)\n",
    "\n",
    "plt.show()\n"
   ]
  }
 ],
 "metadata": {
  "kernelspec": {
   "display_name": "Python 3",
   "language": "python",
   "name": "python3"
  },
  "language_info": {
   "codemirror_mode": {
    "name": "ipython",
    "version": 3
   },
   "file_extension": ".py",
   "mimetype": "text/x-python",
   "name": "python",
   "nbconvert_exporter": "python",
   "pygments_lexer": "ipython3",
   "version": "3.8.3"
  }
 },
 "nbformat": 4,
 "nbformat_minor": 2
}