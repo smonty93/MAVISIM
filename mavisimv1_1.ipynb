{
 "cells": [
  {
   "cell_type": "markdown",
   "metadata": {},
   "source": [
    "# MAVIS Astrometric Simulator\n",
    "\n",
    "## Phase A Version\n",
    "EtE Version\n",
    "\n",
    "## Todo\n",
    "1. Run MAVISIM with 11x11 sources, equally bright at the coordinates of the PSFs. Get DAOPhot to measure their positions and plot the position error as a vector plot at the coordinates of the sources.\n",
    "2. Do the exact same but using only the centre PSF (static psf) but still 11x11 sources."
   ]
  },
  {
   "cell_type": "markdown",
   "metadata": {},
   "source": [
    "# Imports"
   ]
  },
  {
   "cell_type": "code",
   "execution_count": null,
   "metadata": {},
   "outputs": [],
   "source": [
    "# Standard\n",
    "import numpy as np\n",
    "import matplotlib.pyplot as plt\n",
    "import sys\n",
    "import os\n",
    "\n",
    "# Astropy\n",
    "from astropy.io import fits, ascii\n",
    "from astropy.table import Table\n",
    "\n",
    "import input_parameters_v1_1 as input_par\n",
    "\n",
    "os.chdir(\"src\")\n",
    "\n",
    "#import mavisim1_1.addnoise\n",
    "from mavisim1_1.generate_image import ImageGenerator\n",
    "\n",
    "from mavisim1_1.Source import Source\n",
    "from mavisim1_1.InputCoo import InputCoo\n",
    "from mavisim1_1.addnoise import add_all_noise\n",
    "\n",
    "os.chdir(\"../\")"
   ]
  },
  {
   "cell_type": "markdown",
   "metadata": {},
   "source": [
    "# Store the save path and file name"
   ]
  },
  {
   "cell_type": "code",
   "execution_count": null,
   "metadata": {},
   "outputs": [],
   "source": [
    "file_name = \"PST_StaticPSF45FoV\"\n",
    "image_save_path = \"./TestImages/LongInt/\"\n",
    "coo_save_path = \"./TestCoordinates/LongInt/\"\n",
    "\n",
    "\n",
    "# Nbody input plus chosen exposure time\n",
    "fornax = input_par.input_file\n",
    "\n",
    "# Exposure time in seconds\n",
    "exp_time = 30"
   ]
  },
  {
   "cell_type": "markdown",
   "metadata": {},
   "source": [
    "# Create the source object (to populate the image)"
   ]
  },
  {
   "cell_type": "code",
   "execution_count": null,
   "metadata": {},
   "outputs": [],
   "source": [
    "source = Source(input_par, fornax, exp_time, static_dist=True).main()\n",
    "#self, input_par, mavis_src, exp_time, static_dist=False, stat_amp=1.0, tt_amp=1.0\n",
    "\n",
    "print (source[\"X\"])"
   ]
  },
  {
   "cell_type": "markdown",
   "metadata": {},
   "source": [
    "# Create the input catalogue to compare with DAOPhot"
   ]
  },
  {
   "cell_type": "code",
   "execution_count": null,
   "metadata": {},
   "outputs": [],
   "source": [
    "input_coo = InputCoo(input_par, source).main()"
   ]
  },
  {
   "cell_type": "markdown",
   "metadata": {},
   "source": [
    "# Create the Noise-Free Image with E2E PSF\n",
    "\n",
    "## Initialise TileGenerator object + do FFTs of PSFs"
   ]
  },
  {
   "cell_type": "markdown",
   "metadata": {},
   "source": [
    "# NOTES to try fixing offset\n",
    "\n",
    "1. DAOPhot Problem? Try changing the FWHM of the Gaussian, increase the size of the vibration or CD kernel\n",
    "    1. Jesse's PSFs FWHM on the order 15 mas, before CD (FWHM=6.9 mas) and vibration (FWHM~8 mas) errors\n",
    "    - At centre of FoV get 15.6 mas\n",
    "    \n",
    "    2. Try using PSF at longer wavelength?\n",
    "    \n",
    "2. Tiling Problem? Try using existing tiling procedure and then playing with Gaussian offset\n",
    "\n",
    "3. Is there a correlation with the position of the star in the image\n",
    "\n",
    "4. Gaussian offset set to 0, set positions to integer pixel positions\n",
    "    1. Try pre-processing source list, divide by 3.75e-3 round down or up then multiply back\n"
   ]
  },
  {
   "cell_type": "code",
   "execution_count": null,
   "metadata": {},
   "outputs": [],
   "source": [
    "image_gen = ImageGenerator(array_width_pix=12000, pixsize=3.75e-3, source_list=source,\n",
    "                            psfs_file=\"datav1_1/e2e_psfs_100s_lqg_optsquare.fits\", gauss_width_pix=34)\n",
    "\n",
    "image_gen.main()\n",
    "\n",
    "# Can be rebinned to 30\"±3n\"\n",
    "image_final = image_gen.get_rebinned_cropped(rebin_factor=2,cropped_width_as=30.0)"
   ]
  },
  {
   "cell_type": "code",
   "execution_count": null,
   "metadata": {},
   "outputs": [],
   "source": [
    "print (image_final.shape)"
   ]
  },
  {
   "cell_type": "code",
   "execution_count": null,
   "metadata": {},
   "outputs": [],
   "source": [
    "# plot final image:\n",
    "extent = 42*np.array([-0.5,0.5,-0.5,0.5])\n",
    "plt.figure(figsize=[10,10])\n",
    "plt.imshow(image_final, extent=extent)\n",
    "plt.colorbar()\n",
    "plt.clim([8,15])"
   ]
  },
  {
   "cell_type": "markdown",
   "metadata": {},
   "source": [
    "# Add all noise"
   ]
  },
  {
   "cell_type": "code",
   "execution_count": null,
   "metadata": {},
   "outputs": [],
   "source": [
    "# Add sky background,\n",
    "#shot noise, read noise and convert from electrons to ADU\n",
    "image_allnoise = add_all_noise(input_par, image_final, source.meta[\"exp_time\"])"
   ]
  },
  {
   "cell_type": "markdown",
   "metadata": {},
   "source": [
    "# Save the final image and input catalogue"
   ]
  },
  {
   "cell_type": "code",
   "execution_count": null,
   "metadata": {},
   "outputs": [],
   "source": [
    "image_final_noise = np.array(image_allnoise, dtype=\"float32\")\n",
    "hdu = fits.PrimaryHDU(image_final_noise)\n",
    "hdul = fits.HDUList([hdu])\n",
    "hdul.writeto(\"Test1_1.fits\", overwrite=True)\n"
   ]
  },
  {
   "cell_type": "code",
   "execution_count": null,
   "metadata": {},
   "outputs": [],
   "source": [
    "ascii.write(input_coo, 'Test1_1.all', overwrite=True)"
   ]
  },
  {
   "cell_type": "markdown",
   "metadata": {},
   "source": [
    "# Experiment with rebinning vs not"
   ]
  },
  {
   "cell_type": "code",
   "execution_count": null,
   "metadata": {},
   "outputs": [],
   "source": [
    "norb_image = fits.open(image_save_path + \"mavisim2test_JCFixMarchNoRBBigVibNoNoise.fits\")\n",
    "rb_image = fits.open(image_save_path + \"mavisim2test_JCFixMarchRBBigVibNoNoise.fits\")\n",
    "\n",
    "dat_norb = norb_image[0].data\n",
    "slice_norb = dat_norb[3900:4100, 3900:4100]\n",
    "\n",
    "dat_rb = rb_image[0].data\n",
    "slice_rb = dat_rb[1900:2100, 1900:2100]\n",
    "\n",
    "\n",
    "print (np.where(slice_norb == np.amax(slice_norb)))\n",
    "print (np.where(slice_rb == np.amax(slice_rb)))\n",
    "\n",
    "\n",
    "print (np.sum(slice_rb), np.sum(slice_norb), source[\"Flux\"], source[\"Gauss_Info\"][0])\n",
    "print (np.amax(slice_rb), np.amax(slice_norb))\n",
    "\n",
    "\n",
    "image = np.array(slice_rb, dtype=\"float32\")\n",
    "hdu = fits.PrimaryHDU(image)\n",
    "hdul = fits.HDUList([hdu])\n",
    "hdul.writeto(image_save_path + \"sliceRB.fits\", overwrite=True)\n",
    "\n",
    "image = np.array(slice_norb, dtype=\"float32\")\n",
    "hdu = fits.PrimaryHDU(image)\n",
    "hdul = fits.HDUList([hdu])\n",
    "hdul.writeto(image_save_path + \"sliceNoRB.fits\", overwrite=True)\n"
   ]
  },
  {
   "cell_type": "code",
   "execution_count": null,
   "metadata": {},
   "outputs": [],
   "source": []
  },
  {
   "cell_type": "code",
   "execution_count": null,
   "metadata": {},
   "outputs": [],
   "source": []
  }
 ],
 "metadata": {
  "kernelspec": {
   "display_name": "Python 3",
   "language": "python",
   "name": "python3"
  },
  "language_info": {
   "codemirror_mode": {
    "name": "ipython",
    "version": 3
   },
   "file_extension": ".py",
   "mimetype": "text/x-python",
   "name": "python",
   "nbconvert_exporter": "python",
   "pygments_lexer": "ipython3",
   "version": "3.8.3"
  }
 },
 "nbformat": 4,
 "nbformat_minor": 2
}
