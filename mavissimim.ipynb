{
 "cells": [
  {
   "cell_type": "markdown",
   "metadata": {},
   "source": [
    "# MAVIS Astrometric Simulator\n",
    "\n",
    "## Phase A Version\n",
    "March 2020\n",
    "\n",
    "## Todo\n",
    "1. Update the PSDdatabase"
   ]
  },
  {
   "cell_type": "markdown",
   "metadata": {},
   "source": [
    "# Imports"
   ]
  },
  {
   "cell_type": "code",
   "execution_count": 1,
   "metadata": {},
   "outputs": [],
   "source": [
    "# Standard\n",
    "import numpy as np\n",
    "import matplotlib.pyplot as plt\n",
    "import sys\n",
    "import os\n",
    "\n",
    "# Astropy\n",
    "from astropy.io import fits, ascii\n",
    "from astropy.table import Table\n",
    "\n",
    "# Project-specific/\n",
    "#sys.path.append('/src')\n",
    "cwd = os.getcwd()\n",
    "os.chdir(os.getcwd() + \"/src\")\n",
    "\n",
    "#import mavisim.rampup\n",
    "#import mavisim.addconstantsky\n",
    "import mavisim.addnoise\n",
    "#import mavissimim.trimimage\n",
    "import mavisim.input_parameters as input_par\n",
    "#from mavisim.generate_image import ImageGenerator\n",
    "from mavisim.generate_image import ImageGenerator\n",
    "#from rebin import rebin\n",
    "\n",
    "from mavisim.Source import Source\n",
    "#from mavissimim.AOGaussGrid import AOGaussGrid\n",
    "#from mavissimim.SeeingGrid import SeeingGrid\n",
    "from mavisim.InputCoo import InputCoo\n",
    "\n",
    "os.chdir(cwd)\n"
   ]
  },
  {
   "cell_type": "markdown",
   "metadata": {},
   "source": [
    "# Store the save path and file name"
   ]
  },
  {
   "cell_type": "code",
   "execution_count": 10,
   "metadata": {},
   "outputs": [
    {
     "name": "stdout",
     "output_type": "stream",
     "text": [
      "/Users/stephanie/Dropbox/ANUResearch/AO/MAVISIM1/TestImages/\n"
     ]
    }
   ],
   "source": [
    "file_name = \"mavisim2test_March17VersionIntPos\"\n",
    "image_save_path = cwd + \"/TestImages/\"\n",
    "coo_save_path = cwd + \"/TestCoordinates/\"\n",
    "\n",
    "print (image_save_path)"
   ]
  },
  {
   "cell_type": "markdown",
   "metadata": {},
   "source": [
    "# Load the input data"
   ]
  },
  {
   "cell_type": "code",
   "execution_count": 11,
   "metadata": {},
   "outputs": [],
   "source": [
    "# Nbody input plus chosen exposure time\n",
    "ngc3201 = input_par.nbody_in\n",
    "\n",
    "exp_time = 30\n",
    "\n",
    "# Experimenting with making the positions integer values\n",
    "ngc3201[\"X\"] = np.around(ngc3201[\"X\"]/0.00375)*0.00375\n",
    "ngc3201[\"Y\"] = np.around(ngc3201[\"Y\"]/0.00375)*0.00375\n",
    "\n",
    "# Experiment with putting a PSF at the centre\n",
    "#test = ngc3201[0]\n",
    "#test[\"X\"] = 0.0\n",
    "#test[\"Y\"] = 0.0\n",
    "#test[\"Flux\"] = 3880.64117362905\n",
    "\n",
    "#test_table = Table(names=([\"Star\", \"RA\", \"Dec\", \"X\", \"PM_X\", \"Y\", \"PM_Y\", \"Flux\"]),\n",
    "#                  data = test)\n",
    "\n",
    "#print (test[\"Flux\"]*exp_time)\n"
   ]
  },
  {
   "cell_type": "markdown",
   "metadata": {},
   "source": [
    "# Create the source object (to populate the image)"
   ]
  },
  {
   "cell_type": "code",
   "execution_count": 13,
   "metadata": {},
   "outputs": [
    {
     "name": "stdout",
     "output_type": "stream",
     "text": [
      "No TT kernel applied\n",
      "No static distortion applied.\n",
      "         X         \n",
      "     arcseconds    \n",
      "-------------------\n",
      "                0.0\n",
      "            0.57375\n",
      "           -4.51875\n",
      "          -12.00375\n",
      "-2.7824999999999998\n",
      "            4.30125\n",
      "           -8.04375\n",
      "            5.42625\n",
      "             -7.185\n",
      "           -5.23875\n",
      "                ...\n",
      " 6.9712499999999995\n",
      "           17.61375\n",
      "-14.591249999999999\n",
      "              -6.93\n",
      "             -7.395\n",
      "              -9.69\n",
      "            4.77375\n",
      "            0.25125\n",
      "              -19.2\n",
      "0.32999999999999996\n",
      "Length = 250 rows\n"
     ]
    }
   ],
   "source": [
    "source = Source(ngc3201[:250], exp_time, tt_amp_fac=1.0, static_dist=False, stat_amp=1.0).main()\n",
    "#self, mavis_src, exp_time, static_dist, tt_amp_fac, stat_amp\n",
    "\n",
    "print (source[\"X\"])"
   ]
  },
  {
   "cell_type": "markdown",
   "metadata": {},
   "source": [
    "# Create the input catalogue to compare with DAOPhot"
   ]
  },
  {
   "cell_type": "code",
   "execution_count": 14,
   "metadata": {},
   "outputs": [],
   "source": [
    "input_coo = InputCoo(source, trim_cat=True).main()"
   ]
  },
  {
   "cell_type": "markdown",
   "metadata": {},
   "source": [
    "# Create the Noise-Free Image with E2E PSF\n",
    "\n",
    "## Initialise TileGenerator object + do FFTs of PSFs"
   ]
  },
  {
   "cell_type": "markdown",
   "metadata": {},
   "source": [
    "# NOTES to try fixing offset\n",
    "\n",
    "1. DAOPhot Problem? Try changing the FWHM of the Gaussian, increase the size of the vibration or CD kernel\n",
    "    1. Jesse's PSFs FWHM on the order 15 mas, before CD (FWHM=6.9 mas) and vibration (FWHM~8 mas) errors\n",
    "    - At centre of FoV get 15.6 mas\n",
    "    \n",
    "    2. Try using PSF at longer wavelength?\n",
    "    \n",
    "2. Tiling Problem? Try using existing tiling procedure and then playing with Gaussian offset\n",
    "\n",
    "3. Is there a correlation with the position of the star in the image\n",
    "\n",
    "4. Gaussian offset set to 0, set positions to integer pixel positions\n",
    "    1. Try pre-processing source list, divide by 3.75e-3 round down or up then multiply back\n"
   ]
  },
  {
   "cell_type": "code",
   "execution_count": 15,
   "metadata": {},
   "outputs": [
    {
     "name": "stdout",
     "output_type": "stream",
     "text": [
      "Doing PSF FFTs:\n",
      "Done.                          \n",
      "clear   | psf     | prep    | star    | fft     ||  ETA\n",
      "0.00200 | 0.02324 | 0.00003 | 0.06034 | 0.13234 || 0.22           \n",
      "done\n",
      "Totals:\n",
      "clear   | psf     | prep    | star    | fft     || TOTAL\n",
      "   0.50 |    5.81 |    0.01 |   15.09 |   33.09 || 54.49\n"
     ]
    }
   ],
   "source": [
    "image_gen = ImageGenerator(array_width_pix=12000, pixsize=3.75e-3, source_list=source,\n",
    "                            psfs_file=\"src/e2epsfs/e2e_psfs.fits\", gauss_width_pix=34)\n",
    "image_gen.main()\n",
    "image_final = image_gen.get_rebinned_cropped(rebin_factor=2,cropped_width_as=30.0)"
   ]
  },
  {
   "cell_type": "code",
   "execution_count": null,
   "metadata": {},
   "outputs": [],
   "source": [
    "# plot final image:\n",
    "extent = 30*np.array([-0.5,0.5,-0.5,0.5])\n",
    "plt.figure(figsize=[10,10])\n",
    "plt.imshow(np.log(image_final+1), extent=extent)\n",
    "plt.clim([8,15])"
   ]
  },
  {
   "cell_type": "markdown",
   "metadata": {},
   "source": [
    "# Add all noise"
   ]
  },
  {
   "cell_type": "code",
   "execution_count": 16,
   "metadata": {},
   "outputs": [
    {
     "name": "stdout",
     "output_type": "stream",
     "text": [
      "1.6457887563710167\n",
      "12.354722222222222\n",
      "11.692400425088824\n"
     ]
    }
   ],
   "source": [
    "# Add sky background, shot noise, read noise and convert from electrons to ADU\n",
    "image_allnoise = mavisim.addnoise.add_all_noise(image_final, source.meta[\"exp_time\"])"
   ]
  },
  {
   "cell_type": "markdown",
   "metadata": {},
   "source": [
    "# Save the final image and input catalogue"
   ]
  },
  {
   "cell_type": "code",
   "execution_count": 17,
   "metadata": {},
   "outputs": [],
   "source": [
    "image_final_noise = np.array(image_allnoise, dtype=\"float32\")\n",
    "hdu = fits.PrimaryHDU(image_final_noise)\n",
    "hdul = fits.HDUList([hdu])\n",
    "hdul.writeto(image_save_path + file_name + \".fits\", overwrite=True)\n"
   ]
  },
  {
   "cell_type": "code",
   "execution_count": 18,
   "metadata": {},
   "outputs": [],
   "source": [
    "ascii.write(input_coo, coo_save_path + file_name + '.all', overwrite=True)"
   ]
  },
  {
   "cell_type": "markdown",
   "metadata": {},
   "source": [
    "# Experiment with rebinning vs not"
   ]
  },
  {
   "cell_type": "code",
   "execution_count": null,
   "metadata": {},
   "outputs": [],
   "source": [
    "norb_image = fits.open(image_save_path + \"mavisim2test_JCFixMarchNoRBBigVibNoNoise.fits\")\n",
    "rb_image = fits.open(image_save_path + \"mavisim2test_JCFixMarchRBBigVibNoNoise.fits\")\n",
    "\n",
    "dat_norb = norb_image[0].data\n",
    "slice_norb = dat_norb[3900:4100, 3900:4100]\n",
    "\n",
    "dat_rb = rb_image[0].data\n",
    "slice_rb = dat_rb[1900:2100, 1900:2100]\n",
    "\n",
    "\n",
    "print (np.where(slice_norb == np.amax(slice_norb)))\n",
    "print (np.where(slice_rb == np.amax(slice_rb)))\n",
    "\n",
    "\n",
    "print (np.sum(slice_rb), np.sum(slice_norb), source[\"Flux\"], source[\"Gauss_Info\"][0])\n",
    "print (np.amax(slice_rb), np.amax(slice_norb))\n",
    "\n",
    "\n",
    "image = np.array(slice_rb, dtype=\"float32\")\n",
    "hdu = fits.PrimaryHDU(image)\n",
    "hdul = fits.HDUList([hdu])\n",
    "hdul.writeto(image_save_path + \"sliceRB.fits\", overwrite=True)\n",
    "\n",
    "image = np.array(slice_norb, dtype=\"float32\")\n",
    "hdu = fits.PrimaryHDU(image)\n",
    "hdul = fits.HDUList([hdu])\n",
    "hdul.writeto(image_save_path + \"sliceNoRB.fits\", overwrite=True)\n"
   ]
  },
  {
   "cell_type": "code",
   "execution_count": null,
   "metadata": {},
   "outputs": [],
   "source": []
  },
  {
   "cell_type": "code",
   "execution_count": null,
   "metadata": {},
   "outputs": [],
   "source": []
  }
 ],
 "metadata": {
  "kernelspec": {
   "display_name": "Python 3",
   "language": "python",
   "name": "python3"
  },
  "language_info": {
   "codemirror_mode": {
    "name": "ipython",
    "version": 3
   },
   "file_extension": ".py",
   "mimetype": "text/x-python",
   "name": "python",
   "nbconvert_exporter": "python",
   "pygments_lexer": "ipython3",
   "version": "3.8.3"
  }
 },
 "nbformat": 4,
 "nbformat_minor": 2
}
