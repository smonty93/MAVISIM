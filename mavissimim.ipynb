{
 "cells": [
  {
   "cell_type": "markdown",
   "metadata": {},
   "source": [
    "# MAVIS Astrometric Simulator\n",
    "\n",
    "## Phase A Version\n",
    "March 2020\n",
    "\n",
    "## Todo\n",
    "1. Update the PSDdatabase"
   ]
  },
  {
   "cell_type": "markdown",
   "metadata": {},
   "source": [
    "# Imports"
   ]
  },
  {
   "cell_type": "code",
   "execution_count": 1,
   "metadata": {},
   "outputs": [],
   "source": [
    "# Standard\n",
    "import numpy as np\n",
    "import matplotlib.pyplot as plt\n",
    "import sys\n",
    "import os\n",
    "\n",
    "# Astropy\n",
    "from astropy.io import fits, ascii\n",
    "from astropy.table import Table\n",
    "\n",
    "# Project-specific/\n",
    "#sys.path.append('/src')\n",
    "cwd = os.getcwd()\n",
    "os.chdir(os.getcwd() + \"/src\")\n",
    "\n",
    "#import mavisim.rampup\n",
    "#import mavisim.addconstantsky\n",
    "#import mavissimim.addnoise\n",
    "#import mavissimim.trimimage\n",
    "import mavisim.input_parameters as input_par\n",
    "#from rebin import rebin\n",
    "\n",
    "from mavisim.Source import Source\n",
    "#from mavissimim.AOGaussGrid import AOGaussGrid\n",
    "#from mavissimim.SeeingGrid import SeeingGrid\n",
    "from mavisim.InputCoo import InputCoo\n",
    "\n",
    "os.chdir(cwd)\n"
   ]
  },
  {
   "cell_type": "markdown",
   "metadata": {},
   "source": [
    "# Load the input data"
   ]
  },
  {
   "cell_type": "code",
   "execution_count": 2,
   "metadata": {},
   "outputs": [],
   "source": [
    "# Nbody input plus chosen exposure time\n",
    "ngc3201 = input_par.nbody_in\n",
    "\n",
    "exp_time = 3600"
   ]
  },
  {
   "cell_type": "markdown",
   "metadata": {},
   "source": [
    "# Create the source object (to populate the image)"
   ]
  },
  {
   "cell_type": "code",
   "execution_count": 3,
   "metadata": {},
   "outputs": [
    {
     "name": "stdout",
     "output_type": "stream",
     "text": [
      "No TT kernel applied\n",
      "No static distortion applied.\n"
     ]
    }
   ],
   "source": [
    "source = Source(ngc3201, exp_time, tt_amp_fac=1.0, static_dist=False, stat_amp=1.0).main()\n",
    "#self, mavis_src, exp_time, static_dist, tt_amp_fac, stat_amp"
   ]
  },
  {
   "cell_type": "code",
   "execution_count": null,
   "metadata": {},
   "outputs": [],
   "source": [
    "print (source[0].colnames)"
   ]
  },
  {
   "cell_type": "markdown",
   "metadata": {},
   "source": [
    "# Create the input catalogue to compare with DAOPhot"
   ]
  },
  {
   "cell_type": "code",
   "execution_count": 4,
   "metadata": {},
   "outputs": [],
   "source": [
    "input_coo = InputCoo(source).main()"
   ]
  },
  {
   "cell_type": "markdown",
   "metadata": {},
   "source": [
    "# Create the convolved AO core grid and the Gaussian grid\n",
    "\n",
    "## Jesse, this is where you would pick it up"
   ]
  },
  {
   "cell_type": "code",
   "execution_count": null,
   "metadata": {},
   "outputs": [],
   "source": [
    "ao_field, gauss_field = AOGaussGrid(source, fv_psf=False).main()"
   ]
  },
  {
   "cell_type": "markdown",
   "metadata": {},
   "source": [
    "# Use the large PSF to create a grid of seeing wings"
   ]
  },
  {
   "cell_type": "code",
   "execution_count": null,
   "metadata": {},
   "outputs": [],
   "source": [
    "seeing_field = SeeingGrid(gauss_field).main()"
   ]
  },
  {
   "cell_type": "markdown",
   "metadata": {},
   "source": [
    "# Make the final image"
   ]
  },
  {
   "cell_type": "code",
   "execution_count": null,
   "metadata": {},
   "outputs": [],
   "source": [
    "image = ao_field + seeing_field"
   ]
  },
  {
   "cell_type": "markdown",
   "metadata": {},
   "source": [
    "# Add sky background"
   ]
  },
  {
   "cell_type": "code",
   "execution_count": null,
   "metadata": {},
   "outputs": [],
   "source": [
    "#image_plussky, sky_val = mavissimim.addconstantsky.add_constant_sky(image, exp_time)"
   ]
  },
  {
   "cell_type": "markdown",
   "metadata": {},
   "source": [
    "# Add all noise\n",
    "\n",
    "**Idea** = randomly generate a read_noise frame to simulate a bias image"
   ]
  },
  {
   "cell_type": "code",
   "execution_count": null,
   "metadata": {},
   "outputs": [],
   "source": [
    "#image_plussky_rn = mavissimim.addnoise.add_read_noise(image_plussky, sky_val)\n",
    "# Add shot noise, read noise and convert from electrons to ADU\n",
    "image_allnoise = mavissimim.addnoise.add_all_noise(image, source.meta[\"exp_time\"])"
   ]
  },
  {
   "cell_type": "markdown",
   "metadata": {},
   "source": [
    "# Trim the final image and the input catalogue"
   ]
  },
  {
   "cell_type": "code",
   "execution_count": null,
   "metadata": {},
   "outputs": [],
   "source": [
    "(image_plusskyrn_trim, trimmed_input_coo) = mavissimim.trimimage.trim_image(image_allnoise, input_coo)\n",
    "#(image_plusskyrn_trim, trimmed_input_coo) = mavissimim.trimimage.trim_image(image_plussky_rn, input_coo)\n"
   ]
  },
  {
   "cell_type": "markdown",
   "metadata": {},
   "source": [
    "# Save the final image and input catalogue"
   ]
  },
  {
   "cell_type": "code",
   "execution_count": null,
   "metadata": {},
   "outputs": [],
   "source": [
    "final_image = np.array(image_plusskyrn_trim, dtype=\"float32\")\n",
    "hdu = fits.PrimaryHDU(final_image)\n",
    "hdul = fits.HDUList([hdu])\n",
    "hdul.writeto(fits_save_path + file_name + \".fits\", overwrite=True)"
   ]
  },
  {
   "cell_type": "code",
   "execution_count": null,
   "metadata": {},
   "outputs": [],
   "source": [
    "ao_image = np.array(ao_frame_trim, dtype=\"float32\")\n",
    "hdu = fits.PrimaryHDU(ao_image)\n",
    "hdul = fits.HDUList([hdu])\n",
    "hdul.writeto(fits_save_path + file_name + 'AOField.fits', overwrite=True)"
   ]
  },
  {
   "cell_type": "code",
   "execution_count": null,
   "metadata": {},
   "outputs": [],
   "source": [
    "gauss_image = np.array(gauss_frame_trim, dtype=\"float32\")\n",
    "hdu = fits.PrimaryHDU(gauss_image)\n",
    "hdul = fits.HDUList([hdu])\n",
    "hdul.writeto(fits_save_path + file_name + 'GaussField.fits', overwrite=True)"
   ]
  },
  {
   "cell_type": "code",
   "execution_count": null,
   "metadata": {},
   "outputs": [],
   "source": [
    "seeing_image = np.array(sky_plusskyrn_trim, dtype=\"float32\")\n",
    "hdu = fits.PrimaryHDU(seeing_image)\n",
    "hdul = fits.HDUList([hdu])\n",
    "hdul.writeto(fits_save_path + file_name + 'SeeField.fits', overwrite=True)"
   ]
  },
  {
   "cell_type": "code",
   "execution_count": null,
   "metadata": {},
   "outputs": [],
   "source": [
    "ascii.write(trimmed_input_coo, coo_save_path + file_name + '.all', overwrite=True)"
   ]
  },
  {
   "cell_type": "code",
   "execution_count": null,
   "metadata": {},
   "outputs": [],
   "source": [
    "print (trimmed_input_coo[\"CCD_Mapped_X\"][0])\n",
    "print (trimmed_input_coo[\"CCD_Mapped_Y\"][0])\n",
    "print (trimmed_input_coo[\"Flux\"][0])"
   ]
  },
  {
   "cell_type": "code",
   "execution_count": null,
   "metadata": {},
   "outputs": [],
   "source": []
  }
 ],
 "metadata": {
  "kernelspec": {
   "display_name": "Python 3",
   "language": "python",
   "name": "python3"
  },
  "language_info": {
   "codemirror_mode": {
    "name": "ipython",
    "version": 3
   },
   "file_extension": ".py",
   "mimetype": "text/x-python",
   "name": "python",
   "nbconvert_exporter": "python",
   "pygments_lexer": "ipython3",
   "version": "3.8.3"
  }
 },
 "nbformat": 4,
 "nbformat_minor": 2
}
