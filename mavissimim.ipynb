{
 "cells": [
  {
   "cell_type": "markdown",
   "metadata": {},
   "source": [
    "# MAVIS Astrometric Simulator\n",
    "\n",
    "## Phase A Version\n",
    "March 2020\n",
    "\n",
    "## Todo\n",
    "1. Update the PSDdatabase"
   ]
  },
  {
   "cell_type": "markdown",
   "metadata": {},
   "source": [
    "# Imports"
   ]
  },
  {
   "cell_type": "code",
   "execution_count": null,
   "metadata": {},
   "outputs": [],
   "source": [
    "# Standard\n",
    "import numpy as np\n",
    "import matplotlib.pyplot as plt\n",
    "import sys\n",
    "import os\n",
    "\n",
    "# Astropy\n",
    "from astropy.io import fits, ascii\n",
    "from astropy.table import Table\n",
    "\n",
    "# Project-specific/\n",
    "sys.path.append('../src')\n",
    "import mavissimim.rampup\n",
    "import mavissimim.addconstantsky\n",
    "import mavissimim.addnoise\n",
    "import mavissimim.trimimage\n",
    "import mavissimim.input_parameters as input_par\n",
    "from rebin import rebin\n",
    "\n",
    "from mavissimim.Source import Source\n",
    "from mavissimim.AOGaussGrid import AOGaussGrid\n",
    "from mavissimim.SeeingGrid import SeeingGrid\n",
    "from mavissimim.InputCoo import InputCoo\n"
   ]
  },
  {
   "cell_type": "markdown",
   "metadata": {},
   "source": [
    "# Keep track of the simulations\n",
    "\n",
    "## Follow the conventions in the following table\n",
    "| Simulation       | TT Jitter | PSF Variability | Static Dist |\n",
    "|------------------|-----------|-----------------|-------------|\n",
    "| 1 (Realistic I, no IMBH)  | On-Average (6mas)   | On              | On          |\n",
    "| 2 (Realistic II, no IMBH) | On-Worst (~30mas, amplified 25_25_25) | On              | On          |\n",
    "| 3                | On-Average(~6mas, 2 * amplified 25_25_25)   | Off             | Off         |\n",
    "| 4                | On-Worst(30_10_10)  | Off             | Off         |\n",
    "| 5                | Off       | On              | Off         |\n",
    "| 6                | Off       | Off             | On          |\n",
    "| Worst            | On-Worst (10x amplified 25_25_25)         | On      | On (amplified x100, 8mas)\n",
    "| 7 (Realistic III, IMBH)      | On-Average (~6mas, 2 * amplified 25_25_25)         | On              | On          |\n",
    "| 8 (Realisitic IV, IMBH)      | On-Worst (~30mas, 5 * amplified 25_25_25)  | On | On\n",
    "\n",
    "## Updated - Aug 17/20\n",
    "All have 1500 M IMBH at centre, time 0\n",
    "\n",
    "| Simulation       | TT Jitter | Constellation | PSF Variability |\n",
    "|------------------|-----------|---------------|-----------------|\n",
    "| I  | Off   | Off              | Off          |\n",
    "| II| On    | 10_10_10         | On           |\n",
    "| III | On    | 30_40_10         | On           |\n",
    "| IV  | On    | 40_40_40         | On           |"
   ]
  },
  {
   "cell_type": "code",
   "execution_count": null,
   "metadata": {},
   "outputs": [],
   "source": [
    "exp_time = 3600\n",
    "\n",
    "fits_save_path = ('/Users/smonty/Dropbox/ANUResearch/AO/AstrometryPaper/IMBH/SimI/') #% str(input_par.nbody_yr))\n",
    "coo_save_path = ('/Users/smonty/Dropbox/ANUResearch/AO/AstrometryPaper/IMBH/SimI/') #% str(input_par.nbody_yr))\n",
    "\n",
    "file_name = \"StaticPSF_NoTTInput_75mas_11masJit%s\" % str(exp_time)\n",
    "print (input_par.fv_psf_path)\n",
    "print (input_par.nbody_yr)\n",
    "print (input_par.gauss_offset)\n"
   ]
  },
  {
   "cell_type": "markdown",
   "metadata": {},
   "source": [
    "# Load the input data"
   ]
  },
  {
   "cell_type": "code",
   "execution_count": null,
   "metadata": {},
   "outputs": [],
   "source": [
    "# Nbody input plus chosen exposure time\n",
    "ngc3201 = input_par.nbody_in"
   ]
  },
  {
   "cell_type": "code",
   "execution_count": null,
   "metadata": {},
   "outputs": [],
   "source": [
    "print (input_par.fv_psf_path)\n",
    "print (input_par.gauss_sigma)\n",
    "print (input_par.nbody_yr)\n",
    "print (input_par.psf_core_rad_pix, input_par.seeing_core_rad_pix)"
   ]
  },
  {
   "cell_type": "markdown",
   "metadata": {},
   "source": [
    "# Create the source object (to populate the image)"
   ]
  },
  {
   "cell_type": "code",
   "execution_count": null,
   "metadata": {},
   "outputs": [],
   "source": [
    "source = Source(ngc3201, exp_time, static_dist=False, stat_amp=1, tt_var=False, tt_amp_fac=3.0, tt_static=False, tt_kern=0).main()\n",
    "#self, mavis_src, exp_time, static_dist, stat_amp, tt_var, tt_amp_fac, tt_static, tt_kern"
   ]
  },
  {
   "cell_type": "markdown",
   "metadata": {},
   "source": [
    "# Create the input catalogue to compare with DAOPhot"
   ]
  },
  {
   "cell_type": "code",
   "execution_count": null,
   "metadata": {},
   "outputs": [],
   "source": [
    "input_coo = InputCoo(source).main()"
   ]
  },
  {
   "cell_type": "markdown",
   "metadata": {},
   "source": [
    "# Create the convolved AO core grid and the Gaussian grid"
   ]
  },
  {
   "cell_type": "code",
   "execution_count": null,
   "metadata": {},
   "outputs": [],
   "source": [
    "ao_field, gauss_field = AOGaussGrid(source, fv_psf=False).main()"
   ]
  },
  {
   "cell_type": "markdown",
   "metadata": {},
   "source": [
    "# Use the large PSF to create a grid of seeing wings"
   ]
  },
  {
   "cell_type": "code",
   "execution_count": null,
   "metadata": {},
   "outputs": [],
   "source": [
    "seeing_field = SeeingGrid(gauss_field).main()"
   ]
  },
  {
   "cell_type": "markdown",
   "metadata": {},
   "source": [
    "# Make the final image"
   ]
  },
  {
   "cell_type": "code",
   "execution_count": null,
   "metadata": {},
   "outputs": [],
   "source": [
    "image = ao_field + seeing_field"
   ]
  },
  {
   "cell_type": "markdown",
   "metadata": {},
   "source": [
    "# Add sky background"
   ]
  },
  {
   "cell_type": "code",
   "execution_count": null,
   "metadata": {},
   "outputs": [],
   "source": [
    "#image_plussky, sky_val = mavissimim.addconstantsky.add_constant_sky(image, exp_time)"
   ]
  },
  {
   "cell_type": "markdown",
   "metadata": {},
   "source": [
    "# Add all noise\n",
    "\n",
    "**Idea** = randomly generate a read_noise frame to simulate a bias image"
   ]
  },
  {
   "cell_type": "code",
   "execution_count": null,
   "metadata": {},
   "outputs": [],
   "source": [
    "#image_plussky_rn = mavissimim.addnoise.add_read_noise(image_plussky, sky_val)\n",
    "# Add shot noise, read noise and convert from electrons to ADU\n",
    "image_allnoise = mavissimim.addnoise.add_all_noise(image, source.meta[\"exp_time\"])"
   ]
  },
  {
   "cell_type": "markdown",
   "metadata": {},
   "source": [
    "# Trim the final image and the input catalogue"
   ]
  },
  {
   "cell_type": "code",
   "execution_count": null,
   "metadata": {},
   "outputs": [],
   "source": [
    "(image_plusskyrn_trim, trimmed_input_coo) = mavissimim.trimimage.trim_image(image_allnoise, input_coo)\n",
    "#(image_plusskyrn_trim, trimmed_input_coo) = mavissimim.trimimage.trim_image(image_plussky_rn, input_coo)\n"
   ]
  },
  {
   "cell_type": "markdown",
   "metadata": {},
   "source": [
    "# Save the final image and input catalogue"
   ]
  },
  {
   "cell_type": "code",
   "execution_count": null,
   "metadata": {},
   "outputs": [],
   "source": [
    "final_image = np.array(image_plusskyrn_trim, dtype=\"float32\")\n",
    "hdu = fits.PrimaryHDU(final_image)\n",
    "hdul = fits.HDUList([hdu])\n",
    "hdul.writeto(fits_save_path + file_name + \".fits\", overwrite=True)"
   ]
  },
  {
   "cell_type": "code",
   "execution_count": null,
   "metadata": {},
   "outputs": [],
   "source": [
    "ao_image = np.array(ao_frame_trim, dtype=\"float32\")\n",
    "hdu = fits.PrimaryHDU(ao_image)\n",
    "hdul = fits.HDUList([hdu])\n",
    "hdul.writeto(fits_save_path + file_name + 'AOField.fits', overwrite=True)"
   ]
  },
  {
   "cell_type": "code",
   "execution_count": null,
   "metadata": {},
   "outputs": [],
   "source": [
    "gauss_image = np.array(gauss_frame_trim, dtype=\"float32\")\n",
    "hdu = fits.PrimaryHDU(gauss_image)\n",
    "hdul = fits.HDUList([hdu])\n",
    "hdul.writeto(fits_save_path + file_name + 'GaussField.fits', overwrite=True)"
   ]
  },
  {
   "cell_type": "code",
   "execution_count": null,
   "metadata": {},
   "outputs": [],
   "source": [
    "seeing_image = np.array(sky_plusskyrn_trim, dtype=\"float32\")\n",
    "hdu = fits.PrimaryHDU(seeing_image)\n",
    "hdul = fits.HDUList([hdu])\n",
    "hdul.writeto(fits_save_path + file_name + 'SeeField.fits', overwrite=True)"
   ]
  },
  {
   "cell_type": "code",
   "execution_count": null,
   "metadata": {},
   "outputs": [],
   "source": [
    "ascii.write(trimmed_input_coo, coo_save_path + file_name + '.all', overwrite=True)"
   ]
  },
  {
   "cell_type": "code",
   "execution_count": null,
   "metadata": {},
   "outputs": [],
   "source": [
    "print (trimmed_input_coo[\"CCD_Mapped_X\"][0])\n",
    "print (trimmed_input_coo[\"CCD_Mapped_Y\"][0])\n",
    "print (trimmed_input_coo[\"Flux\"][0])"
   ]
  },
  {
   "cell_type": "code",
   "execution_count": null,
   "metadata": {},
   "outputs": [],
   "source": []
  }
 ],
 "metadata": {
  "kernelspec": {
   "display_name": "Python 3",
   "language": "python",
   "name": "python3"
  },
  "language_info": {
   "codemirror_mode": {
    "name": "ipython",
    "version": 3
   },
   "file_extension": ".py",
   "mimetype": "text/x-python",
   "name": "python",
   "nbconvert_exporter": "python",
   "pygments_lexer": "ipython3",
   "version": "3.8.3"
  }
 },
 "nbformat": 4,
 "nbformat_minor": 2
}
