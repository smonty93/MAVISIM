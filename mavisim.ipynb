{
 "cells": [
  {
   "cell_type": "markdown",
   "metadata": {},
   "source": [
    "# MAVIS Astrometric Simulator\n",
    "## E2E Version\n",
    "In this notebook, we simulate a MAVIS image of the NGC 3201 catalogue (truncated to 4000 stars) using a grid of 11x11 E2E simulated PSFs."
   ]
  },
  {
   "cell_type": "markdown",
   "metadata": {},
   "source": [
    "## Imports"
   ]
  },
  {
   "cell_type": "code",
   "execution_count": null,
   "metadata": {},
   "outputs": [],
   "source": [
    "# Standard\n",
    "import numpy as np\n",
    "import matplotlib.pyplot as plt\n",
    "\n",
    "# Astropy\n",
    "from astropy.io import fits, ascii\n",
    "\n",
    "import input_parameters as input_par\n",
    "\n",
    "import mavisim"
   ]
  },
  {
   "cell_type": "markdown",
   "metadata": {},
   "source": [
    "## Create the source object (to populate the image)"
   ]
  },
  {
   "cell_type": "code",
   "execution_count": null,
   "metadata": {},
   "outputs": [],
   "source": [
    "exp_time = 30 # seconds\n",
    "source = mavisim.Source(input_par, exp_time, static_dist=True)\n",
    "source.build_source()"
   ]
  },
  {
   "cell_type": "markdown",
   "metadata": {},
   "source": [
    "## Create the input catalogue to compare with DAOPhot"
   ]
  },
  {
   "cell_type": "code",
   "execution_count": null,
   "metadata": {},
   "outputs": [],
   "source": [
    "input_coo = mavisim.input_coo(input_par, source)"
   ]
  },
  {
   "cell_type": "markdown",
   "metadata": {},
   "source": [
    "## Create the Noise-Free Image with E2E PSF\n",
    "- Initialise ImageGenerator object\n",
    "- Generate image,\n",
    "- Rebin to desired pixel scale."
   ]
  },
  {
   "cell_type": "code",
   "execution_count": null,
   "metadata": {},
   "outputs": [],
   "source": [
    "# The inputs to image generator aren't very user-friendly regrettably, \n",
    "# something to be worked on in future versions.\n",
    "image_gen = mavisim.ImageGenerator(array_width_pix=12800, source=source,\n",
    "                            psfs_file=\"data/e2e_psfs_100s_lqg_optsquare.fits\")\n",
    "image_gen.main()\n",
    "\n",
    "image_final = image_gen.get_rebinned_cropped(rebin_factor=2,cropped_width_as=30.0)"
   ]
  },
  {
   "cell_type": "code",
   "execution_count": null,
   "metadata": {},
   "outputs": [],
   "source": [
    "print (image_final.shape)"
   ]
  },
  {
   "cell_type": "markdown",
   "metadata": {},
   "source": [
    "## Add all noise"
   ]
  },
  {
   "cell_type": "code",
   "execution_count": null,
   "metadata": {},
   "outputs": [],
   "source": [
    "# Add sky background,\n",
    "#shot noise, read noise and convert from electrons to ADU\n",
    "image_allnoise = mavisim.add_all_noise(input_par, image_final, source.exp_time)"
   ]
  },
  {
   "cell_type": "markdown",
   "metadata": {},
   "source": [
    "## Plot/save the final image and input catalogue"
   ]
  },
  {
   "cell_type": "code",
   "execution_count": null,
   "metadata": {
    "scrolled": false
   },
   "outputs": [],
   "source": [
    "image_final_noise = np.array(image_allnoise, dtype=\"float32\")\n",
    "\n",
    "# plot final image:\n",
    "extent = 42*np.array([-0.5,0.5,-0.5,0.5])\n",
    "plt.figure(figsize=[10,10])\n",
    "plt.imshow(image_final_noise, extent=extent)\n",
    "plt.colorbar()\n",
    "plt.clim([8,100])\n",
    "\n",
    "hdu = fits.PrimaryHDU(image_final_noise)\n",
    "hdul = fits.HDUList([hdu])\n",
    "hdul.writeto(\"output_image_001.fits\", overwrite=True)\n",
    "ascii.write(input_coo, 'output_coo_001.all', overwrite=True)"
   ]
  },
  {
   "cell_type": "code",
   "execution_count": null,
   "metadata": {},
   "outputs": [],
   "source": []
  }
 ],
 "metadata": {
  "interpreter": {
   "hash": "b8e1e060a11c4b3d6935e6211e36d9428147ee517b89ea1c668526ca7a3c8b9b"
  },
  "kernelspec": {
   "display_name": "Python 3 (ipykernel)",
   "language": "python",
   "name": "python3"
  },
  "language_info": {
   "codemirror_mode": {
    "name": "ipython",
    "version": 3
   },
   "file_extension": ".py",
   "mimetype": "text/x-python",
   "name": "python",
   "nbconvert_exporter": "python",
   "pygments_lexer": "ipython3",
   "version": "3.9.5"
  }
 },
 "nbformat": 4,
 "nbformat_minor": 2
}
