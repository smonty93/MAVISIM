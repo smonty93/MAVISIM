{
 "cells": [
  {
   "cell_type": "markdown",
   "source": [
    "# MAVIS Astrometric Simulator\n",
    "\n",
    "## Phase A Version\n",
    "EtE Version\n",
    "\n",
    "## Todo\n",
    "1. Run MAVISIM with 11x11 sources, equally bright at the coordinates of the PSFs. Get DAOPhot to measure their positions and plot the position error as a vector plot at the coordinates of the sources.\n",
    "2. Do the exact same but using only the centre PSF (static psf) but still 11x11 sources."
   ],
   "metadata": {}
  },
  {
   "cell_type": "markdown",
   "source": [
    "# Imports"
   ],
   "metadata": {}
  },
  {
   "cell_type": "code",
   "execution_count": null,
   "source": [
    "# Standard\n",
    "import numpy as np\n",
    "import matplotlib.pyplot as plt\n",
    "\n",
    "# Astropy\n",
    "from astropy.io import fits, ascii\n",
    "\n",
    "import input_parameters_v1_1 as input_par\n",
    "\n",
    "from mavisim.generate_image import ImageGenerator\n",
    "\n",
    "from mavisim.source import Source\n",
    "from mavisim.input_coo import InputCoo\n",
    "from mavisim.noise import add_all_noise"
   ],
   "outputs": [],
   "metadata": {}
  },
  {
   "cell_type": "markdown",
   "source": [
    "# Store the save path and file name"
   ],
   "metadata": {}
  },
  {
   "cell_type": "code",
   "execution_count": null,
   "source": [
    "file_name = \"PST_StaticPSF45FoV\"\n",
    "image_save_path = \"./TestImages/LongInt/\"\n",
    "coo_save_path = \"./TestCoordinates/LongInt/\"\n",
    "\n",
    "# Exposure time in seconds\n",
    "exp_time = 30"
   ],
   "outputs": [],
   "metadata": {}
  },
  {
   "cell_type": "markdown",
   "source": [
    "# Create the source object (to populate the image)"
   ],
   "metadata": {}
  },
  {
   "cell_type": "code",
   "execution_count": null,
   "source": [
    "source = Source(input_par, exp_time, static_dist=True)\n",
    "source.build_source()"
   ],
   "outputs": [],
   "metadata": {}
  },
  {
   "cell_type": "markdown",
   "source": [
    "# Create the input catalogue to compare with DAOPhot"
   ],
   "metadata": {}
  },
  {
   "cell_type": "code",
   "execution_count": null,
   "source": [
    "input_coo = InputCoo(input_par, source).main()"
   ],
   "outputs": [],
   "metadata": {}
  },
  {
   "cell_type": "markdown",
   "source": [
    "# Create the Noise-Free Image with E2E PSF\n",
    "\n",
    "## Initialise TileGenerator object + do FFTs of PSFs"
   ],
   "metadata": {}
  },
  {
   "cell_type": "markdown",
   "source": [
    "# NOTES to try fixing offset\n",
    "\n",
    "1. DAOPhot Problem? Try changing the FWHM of the Gaussian, increase the size of the vibration or CD kernel\n",
    "    1. Jesse's PSFs FWHM on the order 15 mas, before CD (FWHM=6.9 mas) and vibration (FWHM~8 mas) errors\n",
    "    - At centre of FoV get 15.6 mas\n",
    "    \n",
    "    2. Try using PSF at longer wavelength?\n",
    "    \n",
    "2. Tiling Problem? Try using existing tiling procedure and then playing with Gaussian offset\n",
    "\n",
    "3. Is there a correlation with the position of the star in the image\n",
    "\n",
    "4. Gaussian offset set to 0, set positions to integer pixel positions\n",
    "    1. Try pre-processing source list, divide by 3.75e-3 round down or up then multiply back\n"
   ],
   "metadata": {}
  },
  {
   "cell_type": "code",
   "execution_count": null,
   "source": [
    "image_gen = ImageGenerator(array_width_pix=12800, pixsize=3.75e-3, source=source,\n",
    "                            psfs_file=\"datav1_1/e2e_psfs_100s_lqg_optsquare.fits\", gauss_width_pix=34)\n",
    "\n",
    "image_gen.main()\n",
    "\n",
    "# Can be rebinned to 30\"±3n\"\n",
    "image_final = image_gen.get_rebinned_cropped(rebin_factor=2,cropped_width_as=30.0)"
   ],
   "outputs": [],
   "metadata": {}
  },
  {
   "cell_type": "code",
   "execution_count": null,
   "source": [
    "print (image_final.shape)"
   ],
   "outputs": [],
   "metadata": {}
  },
  {
   "cell_type": "code",
   "execution_count": null,
   "source": [
    "# plot final image:\n",
    "extent = 42*np.array([-0.5,0.5,-0.5,0.5])\n",
    "plt.figure(figsize=[10,10])\n",
    "plt.imshow(image_final, extent=extent)\n",
    "plt.colorbar()\n",
    "plt.clim([8,15])"
   ],
   "outputs": [],
   "metadata": {}
  },
  {
   "cell_type": "markdown",
   "source": [
    "# Add all noise"
   ],
   "metadata": {}
  },
  {
   "cell_type": "code",
   "execution_count": null,
   "source": [
    "# Add sky background,\n",
    "#shot noise, read noise and convert from electrons to ADU\n",
    "image_allnoise = add_all_noise(input_par, image_final, source.exp_time)"
   ],
   "outputs": [],
   "metadata": {}
  },
  {
   "cell_type": "markdown",
   "source": [
    "# Save the final image and input catalogue"
   ],
   "metadata": {}
  },
  {
   "cell_type": "code",
   "execution_count": null,
   "source": [
    "image_final_noise = np.array(image_allnoise, dtype=\"float32\")\n",
    "hdu = fits.PrimaryHDU(image_final_noise)\n",
    "hdul = fits.HDUList([hdu])\n",
    "hdul.writeto(\"Test1_1.fits\", overwrite=True)\n"
   ],
   "outputs": [],
   "metadata": {}
  },
  {
   "cell_type": "code",
   "execution_count": null,
   "source": [
    "ascii.write(input_coo, 'Test1_1.all', overwrite=True)"
   ],
   "outputs": [],
   "metadata": {}
  },
  {
   "cell_type": "markdown",
   "source": [
    "# Experiment with rebinning vs not"
   ],
   "metadata": {}
  },
  {
   "cell_type": "code",
   "execution_count": null,
   "source": [
    "norb_image = fits.open(image_save_path + \"mavisim2test_JCFixMarchNoRBBigVibNoNoise.fits\")\n",
    "rb_image = fits.open(image_save_path + \"mavisim2test_JCFixMarchRBBigVibNoNoise.fits\")\n",
    "\n",
    "dat_norb = norb_image[0].data\n",
    "slice_norb = dat_norb[3900:4100, 3900:4100]\n",
    "\n",
    "dat_rb = rb_image[0].data\n",
    "slice_rb = dat_rb[1900:2100, 1900:2100]\n",
    "\n",
    "\n",
    "print (np.where(slice_norb == np.amax(slice_norb)))\n",
    "print (np.where(slice_rb == np.amax(slice_rb)))\n",
    "\n",
    "\n",
    "print (np.sum(slice_rb), np.sum(slice_norb), source[\"Flux\"], source[\"Gauss_Info\"][0])\n",
    "print (np.amax(slice_rb), np.amax(slice_norb))\n",
    "\n",
    "\n",
    "image = np.array(slice_rb, dtype=\"float32\")\n",
    "hdu = fits.PrimaryHDU(image)\n",
    "hdul = fits.HDUList([hdu])\n",
    "hdul.writeto(image_save_path + \"sliceRB.fits\", overwrite=True)\n",
    "\n",
    "image = np.array(slice_norb, dtype=\"float32\")\n",
    "hdu = fits.PrimaryHDU(image)\n",
    "hdul = fits.HDUList([hdu])\n",
    "hdul.writeto(image_save_path + \"sliceNoRB.fits\", overwrite=True)\n"
   ],
   "outputs": [],
   "metadata": {}
  },
  {
   "cell_type": "code",
   "execution_count": null,
   "source": [],
   "outputs": [],
   "metadata": {}
  },
  {
   "cell_type": "code",
   "execution_count": null,
   "source": [],
   "outputs": [],
   "metadata": {}
  }
 ],
 "metadata": {
  "kernelspec": {
   "name": "python3",
   "display_name": "Python 3.8.10 64-bit ('base': conda)"
  },
  "language_info": {
   "codemirror_mode": {
    "name": "ipython",
    "version": 3
   },
   "file_extension": ".py",
   "mimetype": "text/x-python",
   "name": "python",
   "nbconvert_exporter": "python",
   "pygments_lexer": "ipython3",
   "version": "3.8.10"
  },
  "interpreter": {
   "hash": "b8e1e060a11c4b3d6935e6211e36d9428147ee517b89ea1c668526ca7a3c8b9b"
  }
 },
 "nbformat": 4,
 "nbformat_minor": 2
}