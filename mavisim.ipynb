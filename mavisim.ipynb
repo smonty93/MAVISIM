{
 "cells": [
  {
   "cell_type": "markdown",
   "source": [
    "# MAVIS Astrometric Simulator\n",
    "## E2E Version\n",
    "In this notebook, we simulate a MAVIS image of the NGC 3201 catalogue (truncated to 4000 stars) using a grid of 11x11 E2E simulated PSFs."
   ],
   "metadata": {}
  },
  {
   "cell_type": "markdown",
   "source": [
    "# Imports"
   ],
   "metadata": {}
  },
  {
   "cell_type": "code",
   "execution_count": null,
   "source": [
    "# Standard\n",
    "import numpy as np\n",
    "import matplotlib.pyplot as plt\n",
    "\n",
    "# Astropy\n",
    "from astropy.io import fits, ascii\n",
    "\n",
    "import input_parameters as input_par\n",
    "\n",
    "from mavisim.generate_image import ImageGenerator\n",
    "from mavisim.source import Source\n",
    "from mavisim.input_coo import InputCoo\n",
    "from mavisim.noise import add_all_noise"
   ],
   "outputs": [],
   "metadata": {}
  },
  {
   "cell_type": "markdown",
   "source": [
    "# Create the source object (to populate the image)"
   ],
   "metadata": {}
  },
  {
   "cell_type": "code",
   "execution_count": null,
   "source": [
    "exp_time = 30 # seconds\n",
    "source = Source(input_par, exp_time, static_dist=True)\n",
    "source.build_source()"
   ],
   "outputs": [],
   "metadata": {}
  },
  {
   "cell_type": "markdown",
   "source": [
    "### Create the input catalogue to compare with DAOPhot"
   ],
   "metadata": {}
  },
  {
   "cell_type": "code",
   "execution_count": null,
   "source": [
    "input_coo = InputCoo(input_par, source).main()"
   ],
   "outputs": [],
   "metadata": {}
  },
  {
   "cell_type": "markdown",
   "source": [
    "# Create the Noise-Free Image with E2E PSF\n",
    "- Initialise ImageGenerator object\n",
    "- Generate image,\n",
    "- Rebin to desired pixel scale."
   ],
   "metadata": {}
  },
  {
   "cell_type": "code",
   "execution_count": null,
   "source": [
    "# The inputs to image generator aren't very user-friendly regrettably, \n",
    "# something to be worked on in future versions.\n",
    "image_gen = ImageGenerator(array_width_pix=12800, pixsize=3.75e-3, source=source,\n",
    "                            psfs_file=\"data/e2e_psfs_100s_lqg_optsquare.fits\", gauss_width_pix=34)\n",
    "image_gen.main()\n",
    "\n",
    "image_final = image_gen.get_rebinned_cropped(rebin_factor=2,cropped_width_as=30.0)"
   ],
   "outputs": [],
   "metadata": {}
  },
  {
   "cell_type": "code",
   "execution_count": null,
   "source": [
    "print (image_final.shape)"
   ],
   "outputs": [],
   "metadata": {}
  },
  {
   "cell_type": "code",
   "execution_count": null,
   "source": [
    "# plot final image:\n",
    "extent = 42*np.array([-0.5,0.5,-0.5,0.5])\n",
    "plt.figure(figsize=[10,10])\n",
    "plt.imshow(image_final, extent=extent)\n",
    "plt.colorbar()\n",
    "plt.clim([8,15])"
   ],
   "outputs": [],
   "metadata": {}
  },
  {
   "cell_type": "markdown",
   "source": [
    "### Add all noise"
   ],
   "metadata": {}
  },
  {
   "cell_type": "code",
   "execution_count": null,
   "source": [
    "# Add sky background,\n",
    "#shot noise, read noise and convert from electrons to ADU\n",
    "image_allnoise = add_all_noise(input_par, image_final, source.exp_time)"
   ],
   "outputs": [],
   "metadata": {}
  },
  {
   "cell_type": "markdown",
   "source": [
    "# Save the final image and input catalogue"
   ],
   "metadata": {}
  },
  {
   "cell_type": "code",
   "execution_count": null,
   "source": [
    "image_final_noise = np.array(image_allnoise, dtype=\"float32\")\n",
    "hdu = fits.PrimaryHDU(image_final_noise)\n",
    "hdul = fits.HDUList([hdu])\n",
    "hdul.writeto(\"output_image_001.fits\", overwrite=True)\n",
    "ascii.write(input_coo, 'output_coo_001.all', overwrite=True)"
   ],
   "outputs": [],
   "metadata": {}
  }
 ],
 "metadata": {
  "kernelspec": {
   "name": "python3",
   "display_name": "Python 3.8.10 64-bit ('base': conda)"
  },
  "language_info": {
   "codemirror_mode": {
    "name": "ipython",
    "version": 3
   },
   "file_extension": ".py",
   "mimetype": "text/x-python",
   "name": "python",
   "nbconvert_exporter": "python",
   "pygments_lexer": "ipython3",
   "version": "3.8.10"
  },
  "interpreter": {
   "hash": "b8e1e060a11c4b3d6935e6211e36d9428147ee517b89ea1c668526ca7a3c8b9b"
  }
 },
 "nbformat": 4,
 "nbformat_minor": 2
}